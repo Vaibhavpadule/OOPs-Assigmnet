{
  "nbformat": 4,
  "nbformat_minor": 0,
  "metadata": {
    "colab": {
      "provenance": []
    },
    "kernelspec": {
      "name": "python3",
      "display_name": "Python 3"
    },
    "language_info": {
      "name": "python"
    }
  },
  "cells": [
    {
      "cell_type": "markdown",
      "source": [
        "**PRACTICAL QUESTIONS**\n"
      ],
      "metadata": {
        "id": "KQlBq512zV4R"
      }
    },
    {
      "cell_type": "markdown",
      "source": [
        "**1. Create a parent class Animal with a method speak() that prints a generic message. Create a child class Dog\n",
        "that overrides the speak() method to print \"Bark!\".**\n"
      ],
      "metadata": {
        "id": "zF66N8RLsMXy"
      }
    },
    {
      "cell_type": "code",
      "source": [
        "class Animal:\n",
        "    def speak(self):\n",
        "        print(\"Animal makes a sound.\")\n",
        "\n",
        "class Dog(Animal):\n",
        "    def speak(self):\n",
        "        print(\"Bark!\")\n",
        "\n",
        "# Test\n",
        "a = Animal()\n",
        "a.speak()\n",
        "\n",
        "d =Dog()\n",
        "d.speak()"
      ],
      "metadata": {
        "colab": {
          "base_uri": "https://localhost:8080/"
        },
        "id": "BwfQEhFDsSO2",
        "outputId": "2a2dcffa-73e5-4b11-bfba-56044e3c2e16"
      },
      "execution_count": 2,
      "outputs": [
        {
          "output_type": "stream",
          "name": "stdout",
          "text": [
            "Animal makes a sound.\n",
            "Bark!\n"
          ]
        }
      ]
    },
    {
      "cell_type": "markdown",
      "source": [
        "**2. Write a program to create an abstract class Shape with a method area(). Derive classes Circle and Rectangle\n",
        "from it and implement the area() method in both.**\n"
      ],
      "metadata": {
        "id": "0wDiRoDDtcRl"
      }
    },
    {
      "cell_type": "code",
      "source": [
        "from abc import ABC, abstractmethod\n",
        "import math\n",
        "\n",
        "class Shape(ABC):\n",
        "    @abstractmethod\n",
        "    def area(self):\n",
        "        pass\n",
        "\n",
        "class Circle(Shape):\n",
        "    def _init_(self, radius):\n",
        "        self.radius = radius\n",
        "\n",
        "    def area(self):\n",
        "        return math.pi * self.radius ** 2\n",
        "\n",
        "class Rectangle(Shape):\n",
        "    def _init_(self, width, height):\n",
        "        self.width = width\n",
        "        self.height = height\n",
        "\n",
        "    def area(self):\n",
        "        return self.width * self.height\n",
        "\n",
        "# Test\n",
        "c = Circle(5)\n",
        "r = Rectangle(4, 6)\n",
        "print(\"Circle area:\", c.area())\n",
        "print(\"Rectangle area:\",r.area())\n"
      ],
      "metadata": {
        "id": "AxHzIuGhuFvD"
      },
      "execution_count": null,
      "outputs": []
    },
    {
      "cell_type": "markdown",
      "source": [
        "**3. Implement a multi-level inheritance scenario where a class Vehicle has an attribute type. Derive a class Car\n",
        "and further derive a class ElectricCar that adds a battery attribute.**\n"
      ],
      "metadata": {
        "id": "NN7ZNBuJuIK2"
      }
    },
    {
      "cell_type": "code",
      "source": [
        "class Vehicle:\n",
        "    def _init_(self, type):\n",
        "        self.type = type\n",
        "\n",
        "class Car(Vehicle):\n",
        "    def _init_(self, type, brand):\n",
        "        super()._init_(type)\n",
        "        self.brand = brand\n",
        "\n",
        "class ElectricCar(Car):\n",
        "    def _init_(self, type, brand, battery):\n",
        "        super()._init_(type, brand)\n",
        "        self.battery = battery\n",
        "\n",
        "# Test\n",
        "ecar = ElectricCar(\"Electric\", \"Tesla\", \"100 kWh\")\n",
        "print(ecar.type, ecar.brand,ecar.battery)"
      ],
      "metadata": {
        "id": "-vsJsBXgud3H"
      },
      "execution_count": null,
      "outputs": []
    },
    {
      "cell_type": "markdown",
      "source": [
        "**4. Demonstrate polymorphism by creating a base class Bird with a method fly(). Create two derived classes\n",
        "Sparrow and Penguin that override the fly() method.**"
      ],
      "metadata": {
        "id": "Hg20lrjougNY"
      }
    },
    {
      "cell_type": "code",
      "source": [
        "class Bird:\n",
        "    def fly(self):\n",
        "        print(\"Some birds fly.\")\n",
        "\n",
        "class Sparrow(Bird):\n",
        "    def fly(self):\n",
        "        print(\"Sparrow flies high.\")\n",
        "\n",
        "class Penguin(Bird):\n",
        "    def fly(self):\n",
        "        print(\"Penguin cannot fly.\")\n",
        "\n",
        "# Test\n",
        "birds = [Sparrow(), Penguin()]\n",
        "for b in birds:\n",
        "     b.fly()"
      ],
      "metadata": {
        "colab": {
          "base_uri": "https://localhost:8080/"
        },
        "id": "YeuK_975un0H",
        "outputId": "7df9e616-c5e6-4f9c-b5a6-3007f9a5c894"
      },
      "execution_count": 6,
      "outputs": [
        {
          "output_type": "stream",
          "name": "stdout",
          "text": [
            "Sparrow flies high.\n",
            "Penguin cannot fly.\n"
          ]
        }
      ]
    },
    {
      "cell_type": "markdown",
      "source": [
        "**5. Write a program to demonstrate encapsulation by creating a class BankAccount with private attributes\n",
        "balance and methods to deposit, withdraw, and check balance.**"
      ],
      "metadata": {
        "id": "1HBIq5MgvBE8"
      }
    },
    {
      "cell_type": "code",
      "source": [
        "class BankAccount:\n",
        "    def _init_(self, balance=0):\n",
        "        self.__balance = balance\n",
        "\n",
        "    def deposit(self, amount):\n",
        "        self.__balance += amount\n",
        "\n",
        "    def withdraw(self, amount):\n",
        "        if amount <= self.__balance:\n",
        "            self.__balance -= amount\n",
        "        else:\n",
        "            print(\"Insufficient funds.\")\n",
        "\n",
        "    def check_balance(self):\n",
        "        return self.__balance\n",
        "\n",
        "# Test\n",
        "acc = BankAccount()\n",
        "acc.deposit(1000)\n",
        "acc.withdraw(500)\n",
        "print(\"Balance:\", acc.check_balance())"
      ],
      "metadata": {
        "id": "M4mstCPJvL6d"
      },
      "execution_count": null,
      "outputs": []
    },
    {
      "cell_type": "markdown",
      "source": [
        "**6. Demonstrate runtime polymorphism using a method play() in a base class Instrument. Derive classes Guitar\n",
        "and Piano that implement their own version of play().**"
      ],
      "metadata": {
        "id": "1xYpR51GvN_B"
      }
    },
    {
      "cell_type": "code",
      "source": [
        "class Instrument:\n",
        "    def play(self):\n",
        "        print(\"Instrument is being played.\")\n",
        "\n",
        "class Guitar(Instrument):\n",
        "    def play(self):\n",
        "        print(\"Strumming the guitar.\")\n",
        "\n",
        "class Piano(Instrument):\n",
        "    def play(self):\n",
        "        print(\"Playing the piano.\")\n",
        "\n",
        "# Test\n",
        "def perform(instrument):\n",
        "    instrument.play()\n",
        "\n",
        "perform(Guitar())\n",
        "perform(Piano())"
      ],
      "metadata": {
        "colab": {
          "base_uri": "https://localhost:8080/"
        },
        "id": "2NI-AUU_vdqG",
        "outputId": "8fdcc85f-3f20-455c-c81d-c43845f62065"
      },
      "execution_count": 9,
      "outputs": [
        {
          "output_type": "stream",
          "name": "stdout",
          "text": [
            "Strumming the guitar.\n",
            "Playing the piano.\n"
          ]
        }
      ]
    },
    {
      "cell_type": "markdown",
      "source": [
        "**7. Create a class MathOperations with a class method add_numbers() to add two numbers and a static\n",
        "method subtract_numbers() to subtract two numbers.**"
      ],
      "metadata": {
        "id": "niMzaAZZvk45"
      }
    },
    {
      "cell_type": "code",
      "source": [
        "class MathOperations:\n",
        "    @classmethod\n",
        "    def add_numbers(cls, a, b):\n",
        "        return a + b\n",
        "\n",
        "    @staticmethod\n",
        "    def subtract_numbers(a, b):\n",
        "        return a - b\n",
        "\n",
        "# Test\n",
        "print(\"Sum:\", MathOperations.add_numbers(10, 5))\n",
        "print(\"Difference:\", MathOperations.subtract_numbers(10,5))"
      ],
      "metadata": {
        "colab": {
          "base_uri": "https://localhost:8080/"
        },
        "id": "Qo1EQ7H-vr_r",
        "outputId": "c6b9842f-149a-4345-b63d-8592e838b6bf"
      },
      "execution_count": 10,
      "outputs": [
        {
          "output_type": "stream",
          "name": "stdout",
          "text": [
            "Sum: 15\n",
            "Difference: 5\n"
          ]
        }
      ]
    },
    {
      "cell_type": "markdown",
      "source": [
        "**8. Implement a class Person with a class method to count the total number of persons created.**"
      ],
      "metadata": {
        "id": "oyZj2F8iv1Fo"
      }
    },
    {
      "cell_type": "code",
      "source": [
        "class Person:\n",
        "    count = 0\n",
        "\n",
        "    def _init_(self, name):\n",
        "        self.name = name\n",
        "        Person.count += 1\n",
        "\n",
        "    @classmethod\n",
        "    def total_persons(cls):\n",
        "        return cls.count\n",
        "\n",
        "# Test\n",
        "p1 = Person(\"Alice\")\n",
        "p2 = Person(\"Bob\")\n",
        "print(\"Total persons:\", Person.total_persons())"
      ],
      "metadata": {
        "id": "f_Hd9_x-wCfT"
      },
      "execution_count": null,
      "outputs": []
    },
    {
      "cell_type": "markdown",
      "source": [
        "**9. Write a class Fraction with attributes numerator and denominator. Override the str method to display the\n",
        "fraction as \"numerator/denominator\".**"
      ],
      "metadata": {
        "id": "ObB6gdsIwFhq"
      }
    },
    {
      "cell_type": "code",
      "source": [
        "class Fraction:\n",
        "    def _init_(self, numerator, denominator):\n",
        "        self.numerator = numerator\n",
        "        self.denominator = denominator\n",
        "\n",
        "    def _str_(self):\n",
        "        return f\"{self.numerator}/{self.denominator}\"\n",
        "\n",
        "# Test\n",
        "f = Fraction(3,4)\n",
        "print(f)"
      ],
      "metadata": {
        "id": "Y_vAHYcGwUqs"
      },
      "execution_count": null,
      "outputs": []
    },
    {
      "cell_type": "markdown",
      "source": [
        "**10. Demonstrate operator overloading by creating a class Vector and overriding the add method to add two\n",
        "vectors.**"
      ],
      "metadata": {
        "id": "E_l3vJyswZFH"
      }
    },
    {
      "cell_type": "code",
      "source": [
        "class Vector:\n",
        "    def _init_(self, x, y):\n",
        "        self.x = x\n",
        "        self.y = y\n",
        "\n",
        "    def _add_(self, other):\n",
        "        return Vector(self.x + other.x, self.y + other.y)\n",
        "\n",
        "    def _str_(self):\n",
        "        return f\"({self.x}, {self.y})\"\n",
        "\n",
        "# Test\n",
        "v1 = Vector(2, 3)\n",
        "v2 = Vector(4, 5)\n",
        "print(\"Sum:\",v1+v2)"
      ],
      "metadata": {
        "id": "rQ2tVumjwp97"
      },
      "execution_count": null,
      "outputs": []
    },
    {
      "cell_type": "markdown",
      "source": [
        "**11. Create a class Person with attributes name and age. Add a method greet() that prints \"Hello, my name is\n",
        "{name} and I am {age} years old.\"**"
      ],
      "metadata": {
        "id": "jaivDJGPww0x"
      }
    },
    {
      "cell_type": "code",
      "source": [
        "class Person:\n",
        "    def _init_(self, name, age):\n",
        "        self.name = name\n",
        "        self.age = age\n",
        "\n",
        "    def greet(self):\n",
        "        print(f\"Hello, my name is {self.name} and I am {self.age} years old.\")\n",
        "\n",
        "# Test\n",
        "p = Person(\"John\",28)\n",
        "p.greet()"
      ],
      "metadata": {
        "id": "uVSM7qRcw-51"
      },
      "execution_count": null,
      "outputs": []
    },
    {
      "cell_type": "markdown",
      "source": [
        "**12. Implement a class Student with attributes name and grades. Create a method average_grade() to compute\n",
        "the average of the grades.**"
      ],
      "metadata": {
        "id": "H5SWh-8RxB2p"
      }
    },
    {
      "cell_type": "code",
      "source": [
        "class Student:\n",
        "    def _init_(self, name, grades):\n",
        "        self.name = name\n",
        "        self.grades = grades\n",
        "\n",
        "    def average_grade(self):\n",
        "        return sum(self.grades) / len(self.grades)\n",
        "\n",
        "# Test\n",
        "s = Student(\"Emma\", [80, 90, 100])\n",
        "print(\"Average grade:\", s.average_grade())"
      ],
      "metadata": {
        "id": "W-yk5RhdxW_S"
      },
      "execution_count": null,
      "outputs": []
    },
    {
      "cell_type": "markdown",
      "source": [
        "**13. Create a class Rectangle with methods set_dimensions() to set the dimensions and area() to calculate the\n",
        "area.**"
      ],
      "metadata": {
        "id": "g2FB-J64xZyq"
      }
    },
    {
      "cell_type": "code",
      "source": [
        "class Rectangle:\n",
        "    def set_dimensions(self, width, height):\n",
        "        self.width = width\n",
        "        self.height = height\n",
        "\n",
        "    def area(self):\n",
        "        return self.width * self.height\n",
        "\n",
        "# Test\n",
        "r = Rectangle()\n",
        "r.set_dimensions(4, 5)\n",
        "print(\"Area:\",r.area())"
      ],
      "metadata": {
        "colab": {
          "base_uri": "https://localhost:8080/"
        },
        "id": "ZZre7pBtxiZN",
        "outputId": "d77073e2-5f63-4eb5-beac-52b56946c7fc"
      },
      "execution_count": 16,
      "outputs": [
        {
          "output_type": "stream",
          "name": "stdout",
          "text": [
            "Area: 20\n"
          ]
        }
      ]
    },
    {
      "cell_type": "markdown",
      "source": [
        "**14. Create a class Employee with a method calculate_salary() that computes the salary based on hours worked\n",
        "and hourly rate. Create a derived class Manager that adds a bonus to the salary.**"
      ],
      "metadata": {
        "id": "HUNd0EJBx5Tp"
      }
    },
    {
      "cell_type": "code",
      "source": [
        "class Employee:\n",
        "    def calculate_salary(self, hours, rate):\n",
        "        return hours * rate\n",
        "\n",
        "class Manager(Employee):\n",
        "    def calculate_salary(self, hours, rate, bonus):\n",
        "        base_salary = super().calculate_salary(hours, rate)\n",
        "        return base_salary + bonus\n",
        "\n",
        "# Test\n",
        "m = Manager()\n",
        "print(\"Manager Salary:\", m.calculate_salary(40,50,500))"
      ],
      "metadata": {
        "colab": {
          "base_uri": "https://localhost:8080/"
        },
        "id": "k7G7KkJwyCBY",
        "outputId": "78cc7f8c-b34a-4b53-b6ca-dfd50b873904"
      },
      "execution_count": 17,
      "outputs": [
        {
          "output_type": "stream",
          "name": "stdout",
          "text": [
            "Manager Salary: 2500\n"
          ]
        }
      ]
    },
    {
      "cell_type": "markdown",
      "source": [
        "**15. Create a class Product with attributes name, price, and quantity. Implement a method total_price() that\n",
        "calculates the total price of the product.**\n",
        "\n",
        "\n"
      ],
      "metadata": {
        "id": "_m3aGUhdyKY3"
      }
    },
    {
      "cell_type": "code",
      "source": [
        "class Product:\n",
        "    def _init_(self, name, price, quantity):\n",
        "        self.name = name\n",
        "        self.price = price\n",
        "        self.quantity = quantity\n",
        "\n",
        "    def total_price(self):\n",
        "        return self.price * self.quantity\n",
        "\n",
        "# Test\n",
        "p = Product(\"Laptop\", 50000, 2)\n",
        "print(\"Total price:\", p.total_price())"
      ],
      "metadata": {
        "id": "VJjFbQ9wydEf"
      },
      "execution_count": null,
      "outputs": []
    },
    {
      "cell_type": "markdown",
      "source": [
        "**16. Create a class Animal with an abstract method sound(). Create two derived classes Cow and Sheep that\n",
        "implement the sound() method.**"
      ],
      "metadata": {
        "id": "9DimJbN6ye2J"
      }
    },
    {
      "cell_type": "code",
      "source": [
        "from abc import ABC, abstractmethod\n",
        "\n",
        "class Animal(ABC):\n",
        "    @abstractmethod\n",
        "    def sound(self):\n",
        "        pass\n",
        "\n",
        "class Cow(Animal):\n",
        "    def sound(self):\n",
        "        print(\"Moo\")\n",
        "\n",
        "class Sheep(Animal):\n",
        "    def sound(self):\n",
        "        print(\"Baa\")\n",
        "\n",
        "# Test\n",
        "Cow().sound()\n",
        "Sheep().sound()"
      ],
      "metadata": {
        "colab": {
          "base_uri": "https://localhost:8080/"
        },
        "id": "_5jyPEybylJZ",
        "outputId": "afd53b50-af13-42ff-c0f7-4237af512a56"
      },
      "execution_count": 20,
      "outputs": [
        {
          "output_type": "stream",
          "name": "stdout",
          "text": [
            "Moo\n",
            "Baa\n"
          ]
        }
      ]
    },
    {
      "cell_type": "markdown",
      "source": [
        "**17. Create a class Book with attributes title, author, and year_published. Add a method get_book_info() that\n",
        "returns a formatted string with the book's details.**\n",
        "\n",
        "\n"
      ],
      "metadata": {
        "id": "GaqaUSdYyqOI"
      }
    },
    {
      "cell_type": "code",
      "source": [
        "class Book:\n",
        "    def _init_(self, title, author, year_published):\n",
        "        self.title = title\n",
        "        self.author = author\n",
        "        self.year_published = year_published\n",
        "\n",
        "    def get_book_info(self):\n",
        "        return f\"'{self.title}' by {self.author}, published in {self.year_published}\"\n",
        "\n",
        "# Test\n",
        "b = Book(\"1984\", \"George Orwell\", 1949)\n",
        "print(b.get_book_info())"
      ],
      "metadata": {
        "id": "LVeiqcBIy54Z"
      },
      "execution_count": null,
      "outputs": []
    },
    {
      "cell_type": "markdown",
      "source": [
        "**18. Create a class House with attributes address and price. Create a derived class Mansion that adds an\n",
        "attribute number_of_rooms.**\n"
      ],
      "metadata": {
        "id": "W_0MfDGNy9Yi"
      }
    },
    {
      "cell_type": "code",
      "source": [
        "class House:\n",
        "    def _init_(self, address, price):\n",
        "        self.address = address\n",
        "        self.price = price\n",
        "\n",
        "class Mansion(House):\n",
        "    def _init_(self, address, price, number_of_rooms):\n",
        "        super()._init_(address, price)\n",
        "        self.number_of_rooms = number_of_rooms\n",
        "\n",
        "# Test\n",
        "m = Mansion(\"123 Palm Street\", 10000000, 15)\n",
        "print(m.address, m.price, m.number_of_rooms)"
      ],
      "metadata": {
        "id": "qv-HJ8LrzJOr"
      },
      "execution_count": null,
      "outputs": []
    }
  ]
}